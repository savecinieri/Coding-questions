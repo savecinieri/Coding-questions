{
 "cells": [
  {
   "cell_type": "code",
   "execution_count": 2,
   "metadata": {},
   "outputs": [
    {
     "name": "stdout",
     "output_type": "stream",
     "text": [
      "['geekxsforgexxeksxx', 'x', 'y']\n"
     ]
    }
   ],
   "source": [
    "def f(params):\n",
    "    #\n",
    "    \n",
    "    \n",
    "\n",
    "\n",
    "# ----------------------------- Main ---------------------------------- #    \n",
    "    \n",
    "\n",
    "inputString = 'geekxsforgexxeksxx'\n",
    "lastLetter = 'x'\n",
    "currentLetter\n",
    "parameters = list();\n",
    "parameters.append(inputString);\n",
    "parameters.append(lastLetter);\n",
    "\n",
    "f(parameters) #list is passed by reference\n",
    "\n",
    "#print(parameters);"
   ]
  },
  {
   "cell_type": "code",
   "execution_count": null,
   "metadata": {},
   "outputs": [],
   "source": []
  }
 ],
 "metadata": {
  "kernelspec": {
   "display_name": "Python 3",
   "language": "python",
   "name": "python3"
  },
  "language_info": {
   "codemirror_mode": {
    "name": "ipython",
    "version": 3
   },
   "file_extension": ".py",
   "mimetype": "text/x-python",
   "name": "python",
   "nbconvert_exporter": "python",
   "pygments_lexer": "ipython3",
   "version": "3.7.4"
  }
 },
 "nbformat": 4,
 "nbformat_minor": 2
}
