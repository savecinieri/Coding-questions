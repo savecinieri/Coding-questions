{
 "cells": [
  {
   "cell_type": "code",
   "execution_count": 22,
   "metadata": {},
   "outputs": [
    {
     "name": "stdout",
     "output_type": "stream",
     "text": [
      "Sorted list:  [-2, -2]\n",
      "-> -2\n",
      "-> -2\n",
      "Missing value: 1\n"
     ]
    }
   ],
   "source": [
    "#Given an array of integers, find the first missing positive integer in linear time and constant space.\n",
    "#In other words, find the lowest positive integer that does not exist in the array. The array can contain duplicates\n",
    "#and negative numbers as well.\n",
    "\n",
    "#For example, the input [3, 4, -1, 1] should give 2. The input [1, 2, 0] should give 3.\n",
    "\n",
    "\n",
    "missingValue = -1;\n",
    "inputList = [-2, -2]; #[1, 2, 0]; #[-2, -1, 1, 3, 4]; #[4, 6]; #[1,1]; #[-2, 1, 3, 4, 1, -1];\n",
    "\n",
    "\n",
    "inputList.sort()\n",
    "print(\"Sorted list: \", inputList);\n",
    "\n",
    "allNegativeNumbers = True; \n",
    "minVal = inputList[len(inputList) - 1];\n",
    "maxVal = inputList[len(inputList) - 1];\n",
    "k = 0;\n",
    "while(k < len(inputList)):\n",
    "    print(\"-> \" + str(inputList[k]));\n",
    "    if inputList[k] > 0:\n",
    "        allNegativeNumbers = False;\n",
    "        if ( inputList[k] < minVal):\n",
    "            minVal = inputList[k];\n",
    "        break;\n",
    "    k += 1;\n",
    "if (allNegativeNumbers == True):\n",
    "    missingValue = 1;\n",
    "else:\n",
    "    #\n",
    "    print(\"Min and Max positive values: \" + str(minVal) + \" \" + str(maxVal))\n",
    "    allPresent = True;\n",
    "    for k in range(1, maxVal, 1):\n",
    "        print(\"-> \" + str(k));\n",
    "        if (k < minVal and k not in inputList) or (k >= minVal and k not in inputList):\n",
    "            allPresent = False;\n",
    "            missingValue = k;\n",
    "            break;\n",
    "    if (allPresent == True):\n",
    "        missingValue = inputList[len(inputList) - 1] + 1;\n",
    "        \n",
    "print(\"Missing value: \" + str(missingValue));"
   ]
  },
  {
   "cell_type": "code",
   "execution_count": null,
   "metadata": {},
   "outputs": [],
   "source": []
  }
 ],
 "metadata": {
  "kernelspec": {
   "display_name": "Python 3",
   "language": "python",
   "name": "python3"
  },
  "language_info": {
   "codemirror_mode": {
    "name": "ipython",
    "version": 3
   },
   "file_extension": ".py",
   "mimetype": "text/x-python",
   "name": "python",
   "nbconvert_exporter": "python",
   "pygments_lexer": "ipython3",
   "version": "3.7.4"
  }
 },
 "nbformat": 4,
 "nbformat_minor": 2
}
