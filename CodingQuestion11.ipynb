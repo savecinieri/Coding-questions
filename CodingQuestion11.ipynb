{
 "cells": [
  {
   "cell_type": "code",
   "execution_count": 17,
   "metadata": {},
   "outputs": [
    {
     "name": "stdout",
     "output_type": "stream",
     "text": [
      "ba\n",
      "an\n",
      "na\n",
      "an\n",
      "na\n",
      "as\n",
      "ban\n",
      "ana\n",
      "['ana']\n",
      "nan\n",
      "['ana', 'nan']\n",
      "ana\n",
      "['ana', 'nan', 'ana']\n",
      "nas\n",
      "bana\n",
      "anan\n",
      "nana\n",
      "anas\n",
      "banan\n",
      "anana\n",
      "['ana', 'nan', 'ana', 'anana']\n",
      "nanas\n",
      "banana\n",
      "ananas\n",
      "bananas\n",
      "Result:  anana\n"
     ]
    }
   ],
   "source": [
    "'''This problem was asked by Amazon.\n",
    "\n",
    "Given a string, find the longest palindromic contiguous substring. If there are more than one with the maximum length,\n",
    "return any one.\n",
    "\n",
    "For example, the longest palindromic substring of \"aabcdcb\" is \"bcdcb\". The longest palindromic substring of \"bananas\" is\n",
    "\"anana\".'''\n",
    "\n",
    "def f(fI, lI, inS, palSubStrList):\n",
    "    #\n",
    "    if (lI >= len(inS)):\n",
    "        return;\n",
    "\n",
    "    # check if the current substring is palyndrome\n",
    "    startSubString = inS[fI : lI + 1];\n",
    "    print(startSubString)\n",
    "    reverseSubString = '';\n",
    "    for j in range(-1, -1 * (len(startSubString) + 1), -1):\n",
    "        reverseSubString = reverseSubString + startSubString[j];\n",
    "    #print('-> ', reverseSubString)\n",
    "    #if it is palyndrome add to palSubStrList\n",
    "    if (reverseSubString == startSubString):\n",
    "        #print('*');\n",
    "        palSubStrList.append(startSubString);\n",
    "        print(palSubStrList);\n",
    "    \n",
    "    f(fI + 1, lI + 1, inS, palSubStrList);\n",
    "    return;\n",
    "\n",
    "# ==================================================================\n",
    "    \n",
    "inputString = \"bananas\";#'aabcdcb';\n",
    "\n",
    "palSubStr = list();\n",
    "for i in range(2, len(inputString) + 1):\n",
    "    # i is the length of the substring\n",
    "    firstInd = 0;\n",
    "    lastInd = i - 1;\n",
    "    f(firstInd, lastInd, inputString, palSubStr);\n",
    "\n",
    "print('Result: ', palSubStr[len(palSubStr) - 1]);\n",
    "#print(palSubStr[len(palSubStr) - 1]);"
   ]
  },
  {
   "cell_type": "code",
   "execution_count": null,
   "metadata": {},
   "outputs": [],
   "source": []
  }
 ],
 "metadata": {
  "kernelspec": {
   "display_name": "Python 3",
   "language": "python",
   "name": "python3"
  },
  "language_info": {
   "codemirror_mode": {
    "name": "ipython",
    "version": 3
   },
   "file_extension": ".py",
   "mimetype": "text/x-python",
   "name": "python",
   "nbconvert_exporter": "python",
   "pygments_lexer": "ipython3",
   "version": "3.7.6"
  }
 },
 "nbformat": 4,
 "nbformat_minor": 4
}
