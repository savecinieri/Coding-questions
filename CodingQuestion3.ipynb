{
 "cells": [
  {
   "cell_type": "code",
   "execution_count": 2,
   "metadata": {},
   "outputs": [
    {
     "name": "stdout",
     "output_type": "stream",
     "text": [
      "Inside pair method!\n",
      "Right element:  c\n",
      "Inside pair method!\n",
      "Left element:  d\n"
     ]
    }
   ],
   "source": [
    "'''\n",
    "cons(a, b) constructs a pair, and car(pair) and cdr(pair) returns the first and last element of that pair.\n",
    "For example, car(cons(3, 4)) returns 3, and cdr(cons(3, 4)) returns 4.\n",
    "\n",
    "Given this implementation of cons:\n",
    "\n",
    "def cons(a, b):\n",
    "    def pair(f):\n",
    "        return f(a, b)\n",
    "    return pair\n",
    "Implement car and cdr.\n",
    "\n",
    "'''\n",
    "\n",
    "def f(a, b):\n",
    "    #print(a, ' // --- // ', b)\n",
    "    return [a, b];\n",
    "    \n",
    "def cons(a, b):\n",
    "    def pair(f): # f is a method\n",
    "        print('Inside pair method!');\n",
    "        return f(a, b); # returns a result that is a variable\n",
    "    return pair; # returns a method\n",
    "\n",
    "# -------------------------------------- #\n",
    "#Solutions\n",
    "\n",
    "#First solution\n",
    "def car(pair): # pair is a method\n",
    "    res = pair(f);\n",
    "    print('Right element: ', res[0]);\n",
    "    return res[0];\n",
    "def cdr(pair): # pair is a method\n",
    "    res = pair(f);\n",
    "    print('Left element: ', res[1]);\n",
    "    return res[1];\n",
    "    \n",
    "#Second solution, the difference is the implementation of primo(a, b) and secondo(a, b) inside car_ and cdr_\n",
    "def car_(function):\n",
    "    def primo(a, b):\n",
    "              return a\n",
    "    return function(primo)\n",
    "\n",
    "def cdr_(function):\n",
    "    def secondo(a, b):\n",
    "              return b\n",
    "    return function(secondo)\n",
    "                                                    # --------- #\n",
    "\n",
    "#pair = cons('a', 'b'); # pair is a method\n",
    "#pair(f);\n",
    "\n",
    "\n",
    "car(cons('c', 'd')); # -> cons('c', 'd') returns pair(f) --> so we use pair(f) to return f('c', 'd') witch returns ['c', 'd']\n",
    "cdr(cons('c', 'd')); # returns 'd'\n",
    "\n",
    "#car_(cons('c', 'd'))\n",
    "#cdr_(cons('c', 'd'))"
   ]
  }
 ],
 "metadata": {
  "kernelspec": {
   "display_name": "Python 3",
   "language": "python",
   "name": "python3"
  },
  "language_info": {
   "codemirror_mode": {
    "name": "ipython",
    "version": 3
   },
   "file_extension": ".py",
   "mimetype": "text/x-python",
   "name": "python",
   "nbconvert_exporter": "python",
   "pygments_lexer": "ipython3",
   "version": "3.7.4"
  }
 },
 "nbformat": 4,
 "nbformat_minor": 2
}
